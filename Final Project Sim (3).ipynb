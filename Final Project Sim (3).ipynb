{
 "cells": [
  {
   "cell_type": "markdown",
   "id": "1215db9f",
   "metadata": {},
   "source": [
    "## Assignment 1a"
   ]
  },
  {
   "cell_type": "code",
   "execution_count": 1,
   "id": "c8932172-110a-47df-b201-df33afa02a1f",
   "metadata": {},
   "outputs": [],
   "source": [
    "import numpy as np\n",
    "import math\n",
    "import matplotlib.pyplot as plt\n",
    "%matplotlib inline\n",
    "import scipy as sp        \n",
    "import scipy.constants as spc\n",
    "import os      \n",
    "import sys\n",
    "sys.path.append('modules')\n",
    "sys.path\n",
    "import pandas as pd\n",
    "\n",
    "import target_model\n",
    "import My_Radar_Inputs\n",
    "import Scheduler\n",
    "import Helper\n",
    "import Detection\n",
    "import Is_It_In_Beam\n",
    "import logging_radar\n",
    "\n",
    "isItInBeam = Is_It_In_Beam.IsInBeam()\n",
    "help = Helper.Helper()\n",
    "ri = My_Radar_Inputs.RadarInputs()\n",
    "log = logging_radar.Logging('logFile', help)\n",
    "\n"
   ]
  },
  {
   "cell_type": "code",
   "execution_count": 2,
   "id": "31dd455b-accf-4868-8adf-77311999d24e",
   "metadata": {},
   "outputs": [],
   "source": [
    "data = np.loadtxt('test_trajectory.txt')\n",
    "tar = target_model.Target('test_trajectory.txt')\n"
   ]
  },
  {
   "cell_type": "code",
   "execution_count": 3,
   "id": "a0edced9-023a-411d-aba7-9560f900bfea",
   "metadata": {},
   "outputs": [
    {
     "data": {
      "text/plain": [
       "[<matplotlib.lines.Line2D at 0x7f3b927224f0>]"
      ]
     },
     "execution_count": 3,
     "metadata": {},
     "output_type": "execute_result"
    },
    {
     "data": {
      "image/png": "[encoded data removed]",
      "text/plain": [
       "<Figure size 432x288 with 1 Axes>"
      ]
     },
     "metadata": {
      "needs_background": "light"
     },
     "output_type": "display_data"
    }
   ],
   "source": [
    "help = Helper.Helper()\n",
    "help.ENU(data)\n",
    "help.ENU2RAE()\n",
    "plt.plot(help.azimuth, help.elevation)"
   ]
  },
  {
   "cell_type": "markdown",
   "id": "e8e0d6d4",
   "metadata": {},
   "source": [
    "## Assignment 1b"
   ]
  },
  {
   "cell_type": "code",
   "execution_count": 4,
   "id": "7a3bae3d",
   "metadata": {},
   "outputs": [],
   "source": [
    "ant = Scheduler.Antenna(ri.Wavelength, ri.AntennaWidth, ri.AntennaHeight)\n",
    "sch = Scheduler.Scheduler(ant, np.min(help.elevation), np.max(help.elevation), np.min(help.azimuth), np.max(help.azimuth))"
   ]
  },
  {
   "cell_type": "code",
   "execution_count": 5,
   "id": "bb7cbdeb-1040-4724-beb1-566831cc971d",
   "metadata": {},
   "outputs": [],
   "source": [
    "for Index in np.arange(100): \n",
    "    GetNextPoint = sch.GetNextPoint(False)"
   ]
  },
  {
   "cell_type": "code",
   "execution_count": 6,
   "id": "155ba36d-cd0f-4f98-b6f4-59064be75f74",
   "metadata": {},
   "outputs": [
    {
     "name": "stdout",
     "output_type": "stream",
     "text": [
      "Target is in beam at time: 0.64\n",
      "Target is in beam at time: 2.14\n",
      "Target is in beam at time: 3.64\n",
      "Target is in beam at time: 5.14\n",
      "Target is in beam at time: 26.14\n",
      "Target is in beam at time: 27.64\n",
      "Target is in beam at time: 29.14\n",
      "Target is in beam at time: 30.64\n",
      "Target is in beam at time: 32.14\n",
      "Target is in beam at time: 33.64\n",
      "Target is in beam at time: 35.14\n",
      "Target is in beam at time: 36.64\n",
      "Target is in beam at time: 38.14\n",
      "Target is in beam at time: 56.370000000000005\n",
      "Target is in beam at time: 57.870000000000005\n",
      "Target is in beam at time: 59.370000000000005\n",
      "Target is in beam at time: 60.870000000000005\n",
      "Target is in beam at time: 62.370000000000005\n",
      "Target is in beam at time: 80.71000000000001\n",
      "Target is in beam at time: 82.21000000000001\n",
      "Target is in beam at time: 83.71000000000001\n",
      "Target is in beam at time: 85.21000000000001\n",
      "Target is in beam at time: 86.82000000000001\n",
      "Target is in beam at time: 88.32000000000001\n",
      "Target is in beam at time: 89.82000000000001\n",
      "Target is in beam at time: 91.32000000000001\n",
      "Target is in beam at time: 92.92\n",
      "Target is in beam at time: 94.42\n",
      "Target is in beam at time: 95.92\n",
      "Target is in beam at time: 100.52\n",
      "Target is in beam at time: 121.8\n",
      "Target is in beam at time: 123.3\n",
      "Target is in beam at time: 124.8\n",
      "Target is in beam at time: 126.3\n",
      "Target is in beam at time: 129.39000000000001\n",
      "Target is in beam at time: 130.89000000000001\n",
      "Target is in beam at time: 132.39000000000001\n",
      "Target is in beam at time: 133.89000000000001\n",
      "Target is in beam at time: 135.39000000000001\n",
      "Target is in beam at time: 136.89000000000001\n",
      "Target is in beam at time: 138.39000000000001\n",
      "Target is in beam at time: 148.88\n",
      "Target is in beam at time: 150.38\n",
      "Target is in beam at time: 151.88\n",
      "Target is in beam at time: 153.38\n",
      "Target is in beam at time: 157.87\n",
      "Target is in beam at time: 159.37\n",
      "Target is in beam at time: 160.78\n",
      "Target is in beam at time: 162.28\n",
      "Target is in beam at time: 163.78\n",
      "Target is in beam at time: 168.18\n",
      "Target is in beam at time: 169.59\n",
      "Target is in beam at time: 171.09\n",
      "Target is in beam at time: 172.49\n",
      "Target is in beam at time: 176.78\n",
      "Target is in beam at time: 178.17000000000002\n",
      "Target is in beam at time: 179.56\n",
      "Target is in beam at time: 185.11\n",
      "Target is in beam at time: 186.5\n"
     ]
    }
   ],
   "source": [
    "time = 0.01 * np.arange(0,20000)     # 0 to 200 seconds\n",
    "for t in time:\n",
    "    ## get target state at time t\n",
    "    targetState = tar.GetState(t)      #first value is t value, 2nd is the time it interpolated at that t value?\n",
    "    targetPos = targetState[2:5]  # slice 2-5 so we start at 2 and want it to give us 3. \n",
    "    (boresightAzimuth, boresightElevation) = sch.GetNextPoint(False)\n",
    "    if isItInBeam.IsTargetInBeam(boresightAzimuth, boresightElevation, sch.beamAzimuthDefractionAngle_rad, sch.beamElevationDefractionAngle_rad, targetPos):\n",
    "        print(\"Target is in beam at time: {}\". format(t))"
   ]
  },
  {
   "cell_type": "markdown",
   "id": "7dff9dd7",
   "metadata": {},
   "source": [
    "## Assignment 2"
   ]
  },
  {
   "cell_type": "code",
   "execution_count": 7,
   "id": "61cb700e-7f2f-417e-b99c-1d2ec3a80010",
   "metadata": {},
   "outputs": [],
   "source": [
    "rf = Detection.RadarFormulas(ri)\n",
    "det = Detection.Detection(ri, help)"
   ]
  },
  {
   "cell_type": "markdown",
   "id": "bc5c6129",
   "metadata": {},
   "source": [
    "## Assignment 3"
   ]
  },
  {
   "cell_type": "code",
   "execution_count": 8,
   "id": "c696f1cc-9068-427a-b79c-8b159d3b27d6",
   "metadata": {},
   "outputs": [],
   "source": [
    "# SNRVector = []\n",
    "# TargetRangeVector = []\n",
    "# ProbOfDetecVector = []\n",
    "# for t in time:\n",
    "#     ## get target state at time t\n",
    "#     targetState = tar.GetState(t)      #first value is t value, 2nd is the time it interpolated at that t value?\n",
    "#     targetPos = targetState[2:5]  # slice 2-5 so we start at 2 and want it to give us 3. \n",
    "    \n",
    "#     targetRange = help.GetRange(targetPos)\n",
    "#     SNR = rf.SNR(targetRange)\n",
    "#     probDet = det.GetProbOfDetection(SNR)\n",
    "\n",
    "#     SNRVector.append(SNR)\n",
    "#     TargetRangeVector.append(targetRange)\n",
    "#     ProbOfDetecVector.append(probDet)\n",
    "    \n",
    "# TargetRangeVectorDivided = [x/1000 for x in TargetRangeVector]"
   ]
  },
  {
   "cell_type": "code",
   "execution_count": 9,
   "id": "b9bd3e70",
   "metadata": {},
   "outputs": [],
   "source": [
    "# ## initialize target model\n",
    "# fig = plt.figure();\n",
    "# ax  = fig.add_axes([0,0,1,1])\n",
    "# ax.plot(TargetRangeVectorDivided,SNRVector)\n",
    "# plt.ylim((0,100))\n",
    "# ax.set_ylabel('SNR')\n",
    "# ax.set_xlabel('Range (km)')\n",
    "\n",
    "# fig1 = plt.figure();\n",
    "# ax1  = fig1.add_axes([0,0,1,1])\n",
    "# ax1.plot(TargetRangeVectorDivided,ProbOfDetecVector)\n",
    "# plt.xlim((0,50))\n",
    "# ax1.set_ylabel('Prob of Detection')\n",
    "# ax1.set_xlabel('Range (km)')\n",
    "\n",
    "# fig2 = plt.figure();\n",
    "# ax2  = fig2.add_axes([0,0,1,1])\n",
    "# ax2.plot(SNRVector,ProbOfDetecVector)\n",
    "# plt.xlim((0,40))\n",
    "# ax2.set_xlabel('SNR')\n",
    "# ax2.set_ylabel('Prob of Detection')"
   ]
  },
  {
   "cell_type": "markdown",
   "id": "9321b7fe",
   "metadata": {},
   "source": [
    "# Final Simulation"
   ]
  },
  {
   "cell_type": "code",
   "execution_count": 74,
   "id": "6430fab2",
   "metadata": {},
   "outputs": [
    {
     "name": "stdout",
     "output_type": "stream",
     "text": [
      "Radar missed target at time : 0.45000000000000023 and Range: 50074.946081924376\n",
      "Radar missed target at time : 1.9500000000000015 and Range: 49505.87776945143\n",
      "Radar missed target at time : 3.4499999999999704 and Range: 48954.696698825835\n",
      "Radar missed target at time : 4.949999999999939 and Range: 48420.02890981524\n",
      "Radar missed target at time : 25.950000000001257 and Range: 42151.44214446708\n",
      "Radar missed target at time : 27.45000000000149 and Range: 41766.04458489025\n",
      "Radar missed target at time : 28.950000000001726 and Range: 41386.79041269857\n",
      "Radar missed target at time : 30.45000000000196 and Range: 41013.40959525475\n",
      "Radar missed target at time : 31.950000000002195 and Range: 40645.65362026495\n",
      "Radar missed target at time : 33.450000000001914 and Range: 40283.29384653641\n",
      "Radar missed target at time : 34.950000000001616 and Range: 39926.120377686355\n",
      "Radar missed target at time : 36.45000000000132 and Range: 39573.94022563155\n",
      "Radar missed target at time : 37.95000000000102 and Range: 39226.576331554046\n",
      "Radar missed target at time : 56.17999999999739 and Range: 35341.285898454604\n",
      "Radar missed target at time : 57.679999999997094 and Range: 35046.378519576545\n",
      "Radar missed target at time : 59.179999999996795 and Range: 34754.9033364205\n",
      "Radar missed target at time : 60.6799999999965 and Range: 34466.79535361392\n",
      "Radar missed target at time : 62.1799999999962 and Range: 34181.986528938556\n",
      "Radar missed target at time : 80.52000000000429 and Range: 30928.363078208797\n",
      "Radar missed target at time : 82.02000000000506 and Range: 30676.28024994687\n",
      "Radar missed target at time : 83.52000000000582 and Range: 30425.304073041432\n",
      "Radar missed target at time : 85.02000000000659 and Range: 30175.14555538677\n",
      "Radar missed target at time : 86.63000000000741 and Range: 29907.197779626276\n",
      "Radar missed target at time : 88.13000000000818 and Range: 29657.722815810226\n",
      "Radar missed target at time : 89.63000000000895 and Range: 29408.046777229836\n",
      "Radar missed target at time : 91.13000000000972 and Range: 29157.797882467945\n",
      "Radar missed target at time : 92.73000000001053 and Range: 28889.793947297578\n",
      "Radar missed target at time : 94.2300000000113 and Range: 28637.103613480038\n",
      "Radar missed target at time : 95.73000000001207 and Range: 28382.588894623837\n",
      "Radar missed target at time : 100.33000000001442 and Range: 27586.005503489407\n",
      "Radar missed target at time : 121.61000000002531 and Range: 23236.816020389047\n",
      "Radar missed target at time : 123.11000000002608 and Range: 22868.747053794403\n",
      "Radar missed target at time : 124.61000000002684 and Range: 22490.669743216815\n",
      "Radar missed target at time : 126.11000000002761 and Range: 22102.35789235499\n",
      "Radar missed target at time : 129.20000000002747 and Range: 21269.44128744773\n",
      "Radar missed target at time : 130.7000000000261 and Range: 20848.854952315647\n",
      "Radar detected target at time : 132.20000000002474 and Range: 20417.56733419465\n",
      "Radar missed target at time : 133.70000000002338 and Range: 19975.588263064044\n",
      "Radar missed target at time : 135.20000000002202 and Range: 19522.98286849145\n",
      "Radar detected target at time : 136.70000000002065 and Range: 19059.87308330919\n",
      "Radar missed target at time : 138.2000000000193 and Range: 18586.44151374136\n",
      "Radar detected target at time : 148.69000000000975 and Range: 15016.114949842668\n",
      "Radar missed target at time : 150.19000000000838 and Range: 14474.750673089584\n",
      "Radar missed target at time : 151.69000000000702 and Range: 13927.806628357783\n",
      "Radar missed target at time : 153.19000000000565 and Range: 13376.19402613349\n",
      "Radar missed target at time : 157.68000000000157 and Range: 11707.440794727294\n",
      "Radar detected target at time : 159.1800000000002 and Range: 11147.937050039936\n",
      "Radar detected target at time : 160.58999999999892 and Range: 10623.013998219592\n",
      "Radar detected target at time : 162.08999999999756 and Range: 10066.999458986586\n",
      "Radar detected target at time : 163.5899999999962 and Range: 9514.929627088548\n",
      "Radar detected target at time : 167.9899999999922 and Range: 7933.332873580709\n",
      "Radar detected target at time : 169.3999999999909 and Range: 7443.361365169243\n",
      "Radar detected target at time : 170.89999999998955 and Range: 6933.795052950392\n",
      "Radar detected target at time : 172.29999999998827 and Range: 6470.538333995584\n",
      "Radar detected target at time : 176.58999999998437 and Range: 5139.020354095134\n",
      "Radar detected target at time : 177.9799999999831 and Range: 4739.844053457961\n",
      "Radar detected target at time : 179.36999999998184 and Range: 4357.7673403598465\n",
      "Radar detected target at time : 186.30999999997553 and Range: 2698.5269580456325\n"
     ]
    }
   ],
   "source": [
    "    #time = 0.01 * np.arange(0,20000) # seconds\n",
    "\n",
    "    endtime = 200\n",
    "    t = 0\n",
    "    updateTime = 0.01\n",
    "    targetRangeVector = np.empty((0,))\n",
    "    snrVect = np.empty((0,))\n",
    "    podVect = np.empty((0,))\n",
    "    detVect = np.empty((0,))\n",
    "\n",
    "    while t < endtime:\n",
    "\n",
    "        t = t + updateTime\n",
    "        # Get next Boresight\n",
    "\n",
    "        (boresightAzimuth_rad, boresightElevation_rad) = sch.GetNextPoint(False)\n",
    "        boresightAzimuth_deg = np.rad2deg(boresightAzimuth_rad)\n",
    "        boresightElevation_deg = np.rad2deg(boresightElevation_rad)\n",
    "        boresightAzimuth = np.deg2rad(boresightAzimuth_deg)\n",
    "        boresightElevation = np.deg2rad(boresightElevation_deg)\n",
    "        # print(\"Radar is searching Az: {}, El: {} at time: {}\".format(boresightAzimuth_deg,boresightElevation_deg,t))\n",
    "\n",
    "        # get target state at time t\n",
    "        targetState = tar.GetState(t)\n",
    "        targetPos = targetState[2:5]\n",
    "        targetRange = help.GetRange(targetPos)\n",
    "        targetRangeVector = np.append(targetRangeVector,targetRange)\n",
    "\n",
    "        # #testing \n",
    "        # targetPosRAE = help.convertENU2RAE1d(targetPos)\n",
    "        # targetAz = targetPosRAE[1]\n",
    "        # targetAz_rad = np.deg2rad(targetAz)\n",
    "        # targetEl = targetPosRAE[2]\n",
    "        # targetEl_rad = np.deg2rad(targetEl)\n",
    "        # isInBeamTruth = isItInBeam.IsTargetInBeam(targetAz_rad, targetEl_rad, sch.beamAzimuthDefractionAngle_rad, sch.beamElevationDefractionAngle_rad, targetPos)\n",
    "\n",
    "        # Check if target is in beam and get\n",
    "        isInBeamTruth = isItInBeam.IsTargetInBeam(boresightAzimuth, boresightElevation, sch.beamAzimuthDefractionAngle_rad, sch.beamElevationDefractionAngle_rad, targetPos)\n",
    "\n",
    "        # print(boresightAzimuth, boresightElevation, sch.beamAzimuthDefractionAngle_rad, sch.beamElevationDefractionAngle_rad)\n",
    "\n",
    "        rf.TargetRange()\n",
    "        isInRangeTruth = isItInBeam.IsTargetInRange(targetRange, rf.RangeMinimum,rf.RangeMaximum)\n",
    "        # print(targetRange, rf.RangeMinimum,rf.RangeMaximum)\n",
    "        # get SNR\n",
    "        # is Det?\n",
    "        snr = rf.SNR(targetRange)\n",
    "        snrVect = np.append(snrVect,snr)\n",
    "                # get POD\n",
    "        probOfDet = det.GetProbOfDetection(snr)\n",
    "        podVect = np.append(podVect,probOfDet)\n",
    "\n",
    "        if isInBeamTruth & isInRangeTruth: \n",
    "            # print(\"isInBeamTruth: {}, isInRangeTruth: {}, at time: {}\".format(isInBeamTruth,isInRangeTruth,t))\n",
    "            # Is target detected? \n",
    "            isDet = det.IsDetected(probOfDet)\n",
    "            detVect = np.append(detVect,isDet)\n",
    "\n",
    "            if isDet: \n",
    "                measurement = det.GenerateMeasurement(targetPos)\n",
    "                log.LogDetection(t, measurement, snr, probOfDet, targetPos)\n",
    "                print(\"Radar detected target at time : {} and Range: {}\".format(t,targetRange))\n",
    "            else:\n",
    "                log.LogMiss(t, snr, probOfDet, targetPos)\n",
    "                print(\"Radar missed target at time : {} and Range: {}\".format(t,targetRange))\n",
    "\n",
    "        else:    ####### Target is not in beam\n",
    "            # Check for False detection\n",
    "            # print(\"isInBeamTruth: {}, isInRangeTruth: {}, at time: {}\".format(isInBeamTruth,isInRangeTruth,t))\n",
    "            isFalseDetection = det.IsDetected(ri.ProbabilityOfFalse_Alarm)\n",
    "            if isFalseDetection:\n",
    "                measurement = det.GenerateMeasurement(targetPos)\n",
    "                print(\"FALSE DETECTION at time : {} and Range: {}\".format(t,targetRange))\n",
    "                log.LogFalseAlarm(t, measurement, snr, probOfDet, targetPos)\n",
    "            else:\n",
    "                pass \n",
    "\n",
    "\n",
    "        log.WriteLog()\n",
    "        \n"
   ]
  },
  {
   "cell_type": "code",
   "execution_count": 76,
   "id": "ec53e7bf-aff3-4bec-844f-bb08056fbc1e",
   "metadata": {},
   "outputs": [],
   "source": [
    "num=7\n",
    "df = pd.read_csv('logFile', sep = ' ',names = ['loggingType','time','azimuthMeasurement','elevationMeasurement','rangeMeasurement','eastMeasurement','northMeasurement','upMeasurement','snr','probOfDet','azimuthTarget','elevationTarget','rangeTarget','eastTarget','northTarget','upTarget'])\n",
    "df['sample'] = num\n",
    "df.to_csv('simrun'+str(num)+'.csv')    "
   ]
  },
  {
   "cell_type": "code",
   "execution_count": null,
   "id": "64480fdf-da3f-49dc-8def-5e8a8dfaa18e",
   "metadata": {},
   "outputs": [],
   "source": []
  }
 ],
 "metadata": {
  "kernelspec": {
   "display_name": "Python 3 (ipykernel)",
   "language": "python",
   "name": "python3"
  },
  "language_info": {
   "codemirror_mode": {
    "name": "ipython",
    "version": 3
   },
   "file_extension": ".py",
   "mimetype": "text/x-python",
   "name": "python",
   "nbconvert_exporter": "python",
   "pygments_lexer": "ipython3",
   "version": "3.9.7"
  }
 },
 "nbformat": 4,
 "nbformat_minor": 5
}
